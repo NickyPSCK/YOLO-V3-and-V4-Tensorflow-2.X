{
 "cells": [
  {
   "attachments": {},
   "cell_type": "markdown",
   "metadata": {},
   "source": [
    "# Tutorial 1: Introduction"
   ]
  },
  {
   "cell_type": "code",
   "execution_count": null,
   "metadata": {},
   "outputs": [],
   "source": [
    "import cv2\n",
    "import tensorflow as tf\n",
    "import matplotlib.pyplot as plt"
   ]
  },
  {
   "attachments": {},
   "cell_type": "markdown",
   "metadata": {},
   "source": [
    "## Create Model Structure Using \"YOLOModel\" Class"
   ]
  },
  {
   "cell_type": "code",
   "execution_count": null,
   "metadata": {
    "scrolled": true
   },
   "outputs": [],
   "source": [
    "from yolo.model import YOLOModel\n",
    "model = YOLOModel().create_model(no_of_classes=100, version='v4', input_size=416, channels=3, training=False)\n",
    "# model.summary()\n",
    "tf.keras.backend.clear_session()"
   ]
  },
  {
   "attachments": {},
   "cell_type": "markdown",
   "metadata": {},
   "source": [
    "## Inference Using Pretrained Model"
   ]
  },
  {
   "cell_type": "code",
   "execution_count": null,
   "metadata": {},
   "outputs": [],
   "source": [
    "from yolo.estimator import YOLOEstimator\n",
    "from yolo.detector import YOLOObjectDetector\n",
    "\n",
    "yolo_estimator = YOLOEstimator(version='v4', input_size=416, channels=3, inference_using_pretrained=True, init_pretrained_weight=False)\n",
    "yolo_estimator.fit()  # To load pretrained weight\n",
    "yolo_detector = YOLOObjectDetector(model=yolo_estimator, classes=None)\n"
   ]
  },
  {
   "cell_type": "code",
   "execution_count": null,
   "metadata": {},
   "outputs": [],
   "source": [
    "image_path = './example_images/city.jpg'\n",
    "image_rgb = cv2.imread(image_path)\n",
    "image_rgb = cv2.cvtColor(image_rgb, cv2.COLOR_BGR2RGB)\n",
    "result, bbox = yolo_detector.detect_image(image_rgb=image_rgb, \n",
    "                                          score_threshold=0.3, \n",
    "                                          iou_threshold=0.45,\n",
    "                                          show_label=True,\n",
    "                                          show_confidence=True)\n",
    "plt.imshow(result)"
   ]
  },
  {
   "cell_type": "code",
   "execution_count": null,
   "metadata": {},
   "outputs": [],
   "source": [
    "image_path = './example_images/kite.jpg'\n",
    "image_rgb = cv2.imread(image_path)\n",
    "image_rgb = cv2.cvtColor(image_rgb, cv2.COLOR_BGR2RGB)\n",
    "result, bbox = yolo_detector.detect_image(image_rgb=image_rgb, \n",
    "                                          score_threshold=0.3, \n",
    "                                          iou_threshold=0.45,\n",
    "                                          show_label=True,\n",
    "                                          show_confidence=True)\n",
    "plt.imshow(result)"
   ]
  },
  {
   "cell_type": "code",
   "execution_count": null,
   "metadata": {},
   "outputs": [],
   "source": [
    "image_path = './example_images/street.jpg'\n",
    "image_rgb = cv2.imread(image_path)\n",
    "image_rgb = cv2.cvtColor(image_rgb, cv2.COLOR_BGR2RGB)\n",
    "result, bbox = yolo_detector.detect_image(image_rgb=image_rgb, \n",
    "                                          score_threshold=0.3, \n",
    "                                          iou_threshold=0.45,\n",
    "                                          show_label=True,\n",
    "                                          show_confidence=True)\n",
    "plt.imshow(result)"
   ]
  },
  {
   "cell_type": "code",
   "execution_count": null,
   "metadata": {},
   "outputs": [],
   "source": [
    "tf.keras.backend.clear_session()"
   ]
  }
 ],
 "metadata": {
  "kernelspec": {
   "display_name": "Python 3.8.13 ('abnormally_image')",
   "language": "python",
   "name": "python3"
  },
  "language_info": {
   "codemirror_mode": {
    "name": "ipython",
    "version": 3
   },
   "file_extension": ".py",
   "mimetype": "text/x-python",
   "name": "python",
   "nbconvert_exporter": "python",
   "pygments_lexer": "ipython3",
   "version": "3.8.13"
  },
  "vscode": {
   "interpreter": {
    "hash": "a08636976506268623c6ddab6b767db297374994553f4a93a95e7dff447e5cf2"
   }
  }
 },
 "nbformat": 4,
 "nbformat_minor": 2
}
