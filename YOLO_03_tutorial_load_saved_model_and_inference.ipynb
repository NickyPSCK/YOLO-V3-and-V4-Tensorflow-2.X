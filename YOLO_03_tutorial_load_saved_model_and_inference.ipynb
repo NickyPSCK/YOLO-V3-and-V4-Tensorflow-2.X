{
 "cells": [
  {
   "attachments": {},
   "cell_type": "markdown",
   "metadata": {},
   "source": [
    "# Tutorial 3: load and Inference"
   ]
  },
  {
   "cell_type": "code",
   "execution_count": null,
   "metadata": {},
   "outputs": [],
   "source": [
    "import cv2\n",
    "import matplotlib.pyplot as plt\n",
    "from yolo.estimator import YOLOEstimator\n",
    "from yolo.detector import YOLOObjectDetector"
   ]
  },
  {
   "attachments": {},
   "cell_type": "markdown",
   "metadata": {},
   "source": [
    "## Load trained custom model"
   ]
  },
  {
   "cell_type": "code",
   "execution_count": null,
   "metadata": {},
   "outputs": [],
   "source": [
    "yolo_custom_estimator = YOLOEstimator.load('custom_model')\n",
    "yolo_custom_detector = YOLOObjectDetector(model=yolo_custom_estimator, classes=['abnormal'])"
   ]
  },
  {
   "attachments": {},
   "cell_type": "markdown",
   "metadata": {},
   "source": [
    "## Make Inference"
   ]
  },
  {
   "cell_type": "code",
   "execution_count": null,
   "metadata": {},
   "outputs": [],
   "source": [
    "image_path = 'example_trainset/apple.v1-apple-dataset.voc/valid/AnyConv-com__38_jpg.rf.efc76c3d7c82233abb99ad2c7bcc2f05.jpg'\n",
    "image_rgb = cv2.imread(image_path)\n",
    "image_rgb = cv2.cvtColor(image_rgb, cv2.COLOR_BGR2RGB)\n",
    "result, bbox = yolo_custom_detector.detect_image(image_rgb=image_rgb, \n",
    "                                                 score_threshold=0.3, \n",
    "                                                 iou_threshold=0.45,\n",
    "                                                 show_label=True,\n",
    "                                                 show_confidence=True)\n",
    "plt.imshow(result)"
   ]
  }
 ],
 "metadata": {
  "kernelspec": {
   "display_name": "Python 3 (ipykernel)",
   "language": "python",
   "name": "python3"
  },
  "language_info": {
   "codemirror_mode": {
    "name": "ipython",
    "version": 3
   },
   "file_extension": ".py",
   "mimetype": "text/x-python",
   "name": "python",
   "nbconvert_exporter": "python",
   "pygments_lexer": "ipython3",
   "version": "3.8.13"
  },
  "vscode": {
   "interpreter": {
    "hash": "a08636976506268623c6ddab6b767db297374994553f4a93a95e7dff447e5cf2"
   }
  }
 },
 "nbformat": 4,
 "nbformat_minor": 2
}
